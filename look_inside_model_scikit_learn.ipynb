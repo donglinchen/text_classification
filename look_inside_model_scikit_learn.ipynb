{
 "metadata": {
  "language_info": {
   "codemirror_mode": {
    "name": "ipython",
    "version": 3
   },
   "file_extension": ".py",
   "mimetype": "text/x-python",
   "name": "python",
   "nbconvert_exporter": "python",
   "pygments_lexer": "ipython3",
   "version": "3.8.8"
  },
  "orig_nbformat": 2,
  "kernelspec": {
   "name": "python388jvsc74a57bd00785b0cdf4a82464f734050b3645057a8a3348aaa89e2c49901418056d63026d",
   "display_name": "Python 3.8.8 64-bit ('base': conda)"
  },
  "metadata": {
   "interpreter": {
    "hash": "0785b0cdf4a82464f734050b3645057a8a3348aaa89e2c49901418056d63026d"
   }
  }
 },
 "nbformat": 4,
 "nbformat_minor": 2,
 "cells": [
  {
   "source": [
    "### We have built text classification models using scikit learn, now let look inside the model to understand how it does prediction and what the most important features are\n",
    "Fist let's quickly build the model again using SGDClassifier"
   ],
   "cell_type": "markdown",
   "metadata": {}
  },
  {
   "cell_type": "code",
   "execution_count": 1,
   "metadata": {},
   "outputs": [],
   "source": [
    "import numpy as np\n",
    "import pandas as pd\n",
    "from sklearn.model_selection import train_test_split\n",
    "from sklearn.pipeline import Pipeline\n",
    "from sklearn.feature_extraction.text import TfidfVectorizer\n",
    "from sklearn.linear_model import SGDClassifier\n",
    "from sklearn import metrics"
   ]
  },
  {
   "cell_type": "code",
   "execution_count": 2,
   "metadata": {},
   "outputs": [
    {
     "output_type": "stream",
     "name": "stdout",
     "text": [
      "(2225, 2) 5\n"
     ]
    },
    {
     "output_type": "execute_result",
     "data": {
      "text/plain": [
       "   category                                               text\n",
       "0      tech  tv future in the hands of viewers with home th...\n",
       "1  business  worldcom boss  left books alone  former worldc..."
      ],
      "text/html": "<div>\n<style scoped>\n    .dataframe tbody tr th:only-of-type {\n        vertical-align: middle;\n    }\n\n    .dataframe tbody tr th {\n        vertical-align: top;\n    }\n\n    .dataframe thead th {\n        text-align: right;\n    }\n</style>\n<table border=\"1\" class=\"dataframe\">\n  <thead>\n    <tr style=\"text-align: right;\">\n      <th></th>\n      <th>category</th>\n      <th>text</th>\n    </tr>\n  </thead>\n  <tbody>\n    <tr>\n      <th>0</th>\n      <td>tech</td>\n      <td>tv future in the hands of viewers with home th...</td>\n    </tr>\n    <tr>\n      <th>1</th>\n      <td>business</td>\n      <td>worldcom boss  left books alone  former worldc...</td>\n    </tr>\n  </tbody>\n</table>\n</div>"
     },
     "metadata": {},
     "execution_count": 2
    }
   ],
   "source": [
    "df = pd.read_csv('bbc-text.csv')\n",
    "print(df.shape, df['category'].nunique())\n",
    "df.head(2)"
   ]
  },
  {
   "cell_type": "code",
   "execution_count": 3,
   "metadata": {},
   "outputs": [
    {
     "output_type": "execute_result",
     "data": {
      "text/plain": [
       "sport            511\n",
       "business         510\n",
       "politics         417\n",
       "tech             401\n",
       "entertainment    386\n",
       "Name: category, dtype: int64"
      ]
     },
     "metadata": {},
     "execution_count": 3
    }
   ],
   "source": [
    "df['category'].value_counts()"
   ]
  },
  {
   "cell_type": "code",
   "execution_count": 4,
   "metadata": {},
   "outputs": [],
   "source": [
    "sgd = Pipeline([(\"tfidf_vector_com\",TfidfVectorizer()), ( \"clf\", SGDClassifier())])"
   ]
  },
  {
   "cell_type": "code",
   "execution_count": 5,
   "metadata": {},
   "outputs": [
    {
     "output_type": "stream",
     "name": "stdout",
     "text": [
      "test accuracy 0.9775280898876404\ntrain accuracy 1.0\n               precision    recall  f1-score   support\n\n     business       0.97      0.97      0.97       102\nentertainment       0.96      0.99      0.97        77\n     politics       0.98      0.96      0.97        84\n        sport       1.00      1.00      1.00       102\n         tech       0.97      0.96      0.97        80\n\n     accuracy                           0.98       445\n    macro avg       0.98      0.98      0.98       445\n weighted avg       0.98      0.98      0.98       445\n\nCPU times: user 1.92 s, sys: 274 ms, total: 2.2 s\nWall time: 899 ms\n"
     ]
    }
   ],
   "source": [
    "%%time\n",
    "X_train, X_test, y_train, y_test = train_test_split(\n",
    "    df['text'], df['category'], test_size=.2, stratify=df['category'], random_state=42)\n",
    "sgd.fit(X_train, y_train)\n",
    "pred_test = sgd.predict(X_test)\n",
    "pred_train = sgd.predict(X_train)\n",
    "print(\"test accuracy\", np.mean(pred_test == y_test))\n",
    "print(\"train accuracy\", np.mean(pred_train == y_train))\n",
    "print(metrics.classification_report(y_test, pred_test))"
   ]
  },
  {
   "source": [
    "### Now we have the model created, let dissect the model to gain insights\n",
    "The model pipeline conatains two steps: TfidfVectorizer for feature extraction, and SGDClassifier as classifier"
   ],
   "cell_type": "markdown",
   "metadata": {}
  },
  {
   "cell_type": "code",
   "execution_count": 6,
   "metadata": {},
   "outputs": [
    {
     "output_type": "execute_result",
     "data": {
      "text/plain": [
       "Pipeline(steps=[('tfidf_vector_com', TfidfVectorizer()),\n",
       "                ('clf', SGDClassifier())])"
      ]
     },
     "metadata": {},
     "execution_count": 6
    }
   ],
   "source": [
    "\n",
    "sgd"
   ]
  },
  {
   "source": [
    "The tfidf (a common term weighting scheme in information retrieval) values that were fed into SGD classifier"
   ],
   "cell_type": "markdown",
   "metadata": {}
  },
  {
   "cell_type": "code",
   "execution_count": 7,
   "metadata": {},
   "outputs": [
    {
     "output_type": "stream",
     "name": "stdout",
     "text": [
      "(26795,)\n"
     ]
    },
    {
     "output_type": "execute_result",
     "data": {
      "text/plain": [
       "array([6.69317081, 2.47121513, 7.7917831 , ..., 7.7917831 , 7.7917831 ,\n",
       "       7.38631799])"
      ]
     },
     "metadata": {},
     "execution_count": 7
    }
   ],
   "source": [
    "print(sgd['tfidf_vector_com'].idf_.shape)\n",
    "sgd['tfidf_vector_com'].idf_"
   ]
  },
  {
   "source": [
    "Check the model target classes and the feature coefficients for the classes"
   ],
   "cell_type": "markdown",
   "metadata": {}
  },
  {
   "cell_type": "code",
   "execution_count": 8,
   "metadata": {},
   "outputs": [
    {
     "output_type": "stream",
     "name": "stdout",
     "text": [
      "['business' 'entertainment' 'politics' 'sport' 'tech']\n(5, 26795)\n"
     ]
    },
    {
     "output_type": "execute_result",
     "data": {
      "text/plain": [
       "array([[-0.06424924,  0.32160756,  0.        , ...,  0.        ,\n",
       "         0.        ,  0.        ],\n",
       "       [-0.04559256, -0.08990268,  0.        , ...,  0.05277412,\n",
       "        -0.10943533,  0.        ],\n",
       "       [ 0.04959907,  0.49723019,  0.        , ...,  0.        ,\n",
       "         0.        ,  0.        ],\n",
       "       [ 0.02885362, -0.5829393 ,  0.        , ...,  0.        ,\n",
       "         0.        ,  0.        ],\n",
       "       [ 0.05720101,  0.01831583,  0.        , ...,  0.        ,\n",
       "         0.        ,  0.        ]])"
      ]
     },
     "metadata": {},
     "execution_count": 8
    }
   ],
   "source": [
    "print(sgd.classes_)\n",
    "print(sgd['clf'].coef_.shape) # <-- (number of classes, number of features)\n",
    "sgd['clf'].coef_"
   ]
  },
  {
   "source": [
    "From above we can see there are total 5 classification classes and there are total 26795 features, those 26795 features correspond to 26795 TFIDF values encoded from the same number of word tokens, let find out the most import word tokens used to calculate the probability for the target class\n",
    "\n",
    "For business class, it is in the first index position 0 in the classes_ attribute arracy, we can use the same index to get the feature coefficients for \"business\""
   ],
   "cell_type": "markdown",
   "metadata": {}
  },
  {
   "cell_type": "code",
   "execution_count": 9,
   "metadata": {},
   "outputs": [
    {
     "output_type": "execute_result",
     "data": {
      "text/plain": [
       "array([-0.06424924,  0.32160756,  0.        , ...,  0.        ,\n",
       "        0.        ,  0.        ])"
      ]
     },
     "metadata": {},
     "execution_count": 9
    }
   ],
   "source": [
    "sgd['clf'].coef_[0]"
   ]
  },
  {
   "source": [
    "The maximum coefficient index and the max coefficient value is"
   ],
   "cell_type": "markdown",
   "metadata": {}
  },
  {
   "cell_type": "code",
   "execution_count": 10,
   "metadata": {},
   "outputs": [
    {
     "output_type": "stream",
     "name": "stdout",
     "text": [
      "13260\n"
     ]
    },
    {
     "output_type": "execute_result",
     "data": {
      "text/plain": [
       "2.4005051825497112"
      ]
     },
     "metadata": {},
     "execution_count": 10
    }
   ],
   "source": [
    "idx = np.argmax(sgd['clf'].coef_[0])\n",
    "print(idx)\n",
    "sgd['clf'].coef_[0][idx]"
   ]
  },
  {
   "source": [
    "Lets find out the word token correspond to this maximum coefficient using the vocabulary attibute from TfidfVecterizer "
   ],
   "cell_type": "markdown",
   "metadata": {}
  },
  {
   "cell_type": "code",
   "execution_count": 11,
   "metadata": {},
   "outputs": [
    {
     "output_type": "execute_result",
     "data": {
      "text/plain": [
       "'its'"
      ]
     },
     "metadata": {},
     "execution_count": 11
    }
   ],
   "source": [
    "# Convert word to index sequence dictionary to index to word for easy lookup word by index\n",
    "idx_to_word = {idx:word for (word, idx) in sgd['tfidf_vector_com'].vocabulary_.items()}\n",
    "idx_to_word[idx]"
   ]
  },
  {
   "source": [
    "Putting all these together. lest get top N features for a class"
   ],
   "cell_type": "markdown",
   "metadata": {}
  },
  {
   "cell_type": "code",
   "execution_count": 18,
   "metadata": {},
   "outputs": [],
   "source": [
    "def top_n_features_by_coef(n, classname):\n",
    "    \"\"\"\n",
    "        Args:\n",
    "            n: the top number of words by coefficient,\n",
    "            classname: the class label\n",
    "        Returns:\n",
    "            top or bottom n words with coefficients\n",
    "    \"\"\"\n",
    "    class_idx = np.where(sgd.classes_== classname)[0][0]\n",
    "    idx_coef = sorted(\n",
    "        [(i,v) for (i, v) in enumerate(sgd['clf'].coef_[class_idx])], key=lambda e: e[1],reverse=True)\n",
    "    top_n_idx_coef = idx_coef[:n]\n",
    "    bottom_n_idx_coef = idx_coef[-n:] # top negative N words, sort asscending\n",
    "    top_word_coef = list(map(lambda e: (idx_to_word[e[0]], round(e[1], 4)), top_n_idx_coef))\n",
    "    bottom_word_coef = list(map(lambda e: (idx_to_word[e[0]], round(e[1], 4)), bottom_n_idx_coef))\n",
    "    df = pd.DataFrame(top_word_coef, columns=[f\"{classname}_word\", 'coef'])\n",
    "    df_bottom = pd.DataFrame(bottom_word_coef, columns=[f\"{classname}_word\", 'coef'])\n",
    "    return pd.concat([df, df_bottom])"
   ]
  },
  {
   "source": [
    "What are the word tookens by top positive and negative coeffients?"
   ],
   "cell_type": "markdown",
   "metadata": {}
  },
  {
   "cell_type": "code",
   "execution_count": 19,
   "metadata": {},
   "outputs": [
    {
     "output_type": "execute_result",
     "data": {
      "text/plain": [
       "  business_word    coef entertainment_word    coef politics_word    coef  \\\n",
       "0           its  2.4005               film  3.4698         party  2.3294   \n",
       "1          bank  2.3939               show  2.7745         blair  2.3008   \n",
       "2      economic  2.3341              music  2.3008    government  1.9766   \n",
       "3        shares  2.1957             singer  2.1822        labour  1.9396   \n",
       "4          firm  1.9372              album  2.1260          lord  1.9291   \n",
       "5       company  1.8363               star  1.8786            mr  1.8367   \n",
       "6      business  1.7527               band  1.8117     committee  1.8335   \n",
       "7    investment  1.5838           festival  1.7344     secretary  1.8280   \n",
       "8         sales  1.5324                 tv  1.6898      minister  1.8098   \n",
       "9        market  1.4782              chart  1.6275         straw  1.7584   \n",
       "0     committee -1.1054             labour -0.8851          club -1.0626   \n",
       "1            uk -1.1491           minister -0.9839     companies -1.0649   \n",
       "2        people -1.1704                 to -1.0174           net -1.1011   \n",
       "3         brown -1.1706               firm -1.0257            tv -1.1104   \n",
       "4         music -1.2938         technology -1.0404         rugby -1.1504   \n",
       "5         straw -1.3013           internet -1.0578      software -1.1647   \n",
       "6       britain -1.3039              games -1.2107            us -1.4286   \n",
       "7          film -1.3973            players -1.3294          film -1.4291   \n",
       "8         blair -1.4107             online -1.3732         music -1.4483   \n",
       "9            he -1.5828               game -1.4735      economic -1.5548   \n",
       "\n",
       "  sport_word    coef    tech_word    coef  \n",
       "0        cup  1.7925     computer  2.4449  \n",
       "1    players  1.7733   technology  2.3884  \n",
       "2      match  1.7472       online  2.3405  \n",
       "3       club  1.6202     software  2.3355  \n",
       "4  athletics  1.6165         game  2.0802  \n",
       "5  liverpool  1.6002        games  2.0757  \n",
       "6      rugby  1.4954      digital  2.0665  \n",
       "7      coach  1.4910        users  1.7263  \n",
       "8        win  1.4361          ink  1.7228  \n",
       "9   champion  1.3948     internet  1.6905  \n",
       "0      album -1.0300  nominations -0.7940  \n",
       "1         uk -1.0436   complaints -0.8121  \n",
       "2     shares -1.1002        after -0.8312  \n",
       "3     singer -1.1988         corp -0.8377  \n",
       "4      music -1.2189     vodafone -0.8712  \n",
       "5       said -1.2621        sales -0.8992  \n",
       "6        its -1.2958      chernin -0.9470  \n",
       "7       film -1.3940       shares -0.9972  \n",
       "8         of -1.7923          ict -1.0351  \n",
       "9         mr -2.9217   government -1.0401  "
      ],
      "text/html": "<div>\n<style scoped>\n    .dataframe tbody tr th:only-of-type {\n        vertical-align: middle;\n    }\n\n    .dataframe tbody tr th {\n        vertical-align: top;\n    }\n\n    .dataframe thead th {\n        text-align: right;\n    }\n</style>\n<table border=\"1\" class=\"dataframe\">\n  <thead>\n    <tr style=\"text-align: right;\">\n      <th></th>\n      <th>business_word</th>\n      <th>coef</th>\n      <th>entertainment_word</th>\n      <th>coef</th>\n      <th>politics_word</th>\n      <th>coef</th>\n      <th>sport_word</th>\n      <th>coef</th>\n      <th>tech_word</th>\n      <th>coef</th>\n    </tr>\n  </thead>\n  <tbody>\n    <tr>\n      <th>0</th>\n      <td>its</td>\n      <td>2.4005</td>\n      <td>film</td>\n      <td>3.4698</td>\n      <td>party</td>\n      <td>2.3294</td>\n      <td>cup</td>\n      <td>1.7925</td>\n      <td>computer</td>\n      <td>2.4449</td>\n    </tr>\n    <tr>\n      <th>1</th>\n      <td>bank</td>\n      <td>2.3939</td>\n      <td>show</td>\n      <td>2.7745</td>\n      <td>blair</td>\n      <td>2.3008</td>\n      <td>players</td>\n      <td>1.7733</td>\n      <td>technology</td>\n      <td>2.3884</td>\n    </tr>\n    <tr>\n      <th>2</th>\n      <td>economic</td>\n      <td>2.3341</td>\n      <td>music</td>\n      <td>2.3008</td>\n      <td>government</td>\n      <td>1.9766</td>\n      <td>match</td>\n      <td>1.7472</td>\n      <td>online</td>\n      <td>2.3405</td>\n    </tr>\n    <tr>\n      <th>3</th>\n      <td>shares</td>\n      <td>2.1957</td>\n      <td>singer</td>\n      <td>2.1822</td>\n      <td>labour</td>\n      <td>1.9396</td>\n      <td>club</td>\n      <td>1.6202</td>\n      <td>software</td>\n      <td>2.3355</td>\n    </tr>\n    <tr>\n      <th>4</th>\n      <td>firm</td>\n      <td>1.9372</td>\n      <td>album</td>\n      <td>2.1260</td>\n      <td>lord</td>\n      <td>1.9291</td>\n      <td>athletics</td>\n      <td>1.6165</td>\n      <td>game</td>\n      <td>2.0802</td>\n    </tr>\n    <tr>\n      <th>5</th>\n      <td>company</td>\n      <td>1.8363</td>\n      <td>star</td>\n      <td>1.8786</td>\n      <td>mr</td>\n      <td>1.8367</td>\n      <td>liverpool</td>\n      <td>1.6002</td>\n      <td>games</td>\n      <td>2.0757</td>\n    </tr>\n    <tr>\n      <th>6</th>\n      <td>business</td>\n      <td>1.7527</td>\n      <td>band</td>\n      <td>1.8117</td>\n      <td>committee</td>\n      <td>1.8335</td>\n      <td>rugby</td>\n      <td>1.4954</td>\n      <td>digital</td>\n      <td>2.0665</td>\n    </tr>\n    <tr>\n      <th>7</th>\n      <td>investment</td>\n      <td>1.5838</td>\n      <td>festival</td>\n      <td>1.7344</td>\n      <td>secretary</td>\n      <td>1.8280</td>\n      <td>coach</td>\n      <td>1.4910</td>\n      <td>users</td>\n      <td>1.7263</td>\n    </tr>\n    <tr>\n      <th>8</th>\n      <td>sales</td>\n      <td>1.5324</td>\n      <td>tv</td>\n      <td>1.6898</td>\n      <td>minister</td>\n      <td>1.8098</td>\n      <td>win</td>\n      <td>1.4361</td>\n      <td>ink</td>\n      <td>1.7228</td>\n    </tr>\n    <tr>\n      <th>9</th>\n      <td>market</td>\n      <td>1.4782</td>\n      <td>chart</td>\n      <td>1.6275</td>\n      <td>straw</td>\n      <td>1.7584</td>\n      <td>champion</td>\n      <td>1.3948</td>\n      <td>internet</td>\n      <td>1.6905</td>\n    </tr>\n    <tr>\n      <th>0</th>\n      <td>committee</td>\n      <td>-1.1054</td>\n      <td>labour</td>\n      <td>-0.8851</td>\n      <td>club</td>\n      <td>-1.0626</td>\n      <td>album</td>\n      <td>-1.0300</td>\n      <td>nominations</td>\n      <td>-0.7940</td>\n    </tr>\n    <tr>\n      <th>1</th>\n      <td>uk</td>\n      <td>-1.1491</td>\n      <td>minister</td>\n      <td>-0.9839</td>\n      <td>companies</td>\n      <td>-1.0649</td>\n      <td>uk</td>\n      <td>-1.0436</td>\n      <td>complaints</td>\n      <td>-0.8121</td>\n    </tr>\n    <tr>\n      <th>2</th>\n      <td>people</td>\n      <td>-1.1704</td>\n      <td>to</td>\n      <td>-1.0174</td>\n      <td>net</td>\n      <td>-1.1011</td>\n      <td>shares</td>\n      <td>-1.1002</td>\n      <td>after</td>\n      <td>-0.8312</td>\n    </tr>\n    <tr>\n      <th>3</th>\n      <td>brown</td>\n      <td>-1.1706</td>\n      <td>firm</td>\n      <td>-1.0257</td>\n      <td>tv</td>\n      <td>-1.1104</td>\n      <td>singer</td>\n      <td>-1.1988</td>\n      <td>corp</td>\n      <td>-0.8377</td>\n    </tr>\n    <tr>\n      <th>4</th>\n      <td>music</td>\n      <td>-1.2938</td>\n      <td>technology</td>\n      <td>-1.0404</td>\n      <td>rugby</td>\n      <td>-1.1504</td>\n      <td>music</td>\n      <td>-1.2189</td>\n      <td>vodafone</td>\n      <td>-0.8712</td>\n    </tr>\n    <tr>\n      <th>5</th>\n      <td>straw</td>\n      <td>-1.3013</td>\n      <td>internet</td>\n      <td>-1.0578</td>\n      <td>software</td>\n      <td>-1.1647</td>\n      <td>said</td>\n      <td>-1.2621</td>\n      <td>sales</td>\n      <td>-0.8992</td>\n    </tr>\n    <tr>\n      <th>6</th>\n      <td>britain</td>\n      <td>-1.3039</td>\n      <td>games</td>\n      <td>-1.2107</td>\n      <td>us</td>\n      <td>-1.4286</td>\n      <td>its</td>\n      <td>-1.2958</td>\n      <td>chernin</td>\n      <td>-0.9470</td>\n    </tr>\n    <tr>\n      <th>7</th>\n      <td>film</td>\n      <td>-1.3973</td>\n      <td>players</td>\n      <td>-1.3294</td>\n      <td>film</td>\n      <td>-1.4291</td>\n      <td>film</td>\n      <td>-1.3940</td>\n      <td>shares</td>\n      <td>-0.9972</td>\n    </tr>\n    <tr>\n      <th>8</th>\n      <td>blair</td>\n      <td>-1.4107</td>\n      <td>online</td>\n      <td>-1.3732</td>\n      <td>music</td>\n      <td>-1.4483</td>\n      <td>of</td>\n      <td>-1.7923</td>\n      <td>ict</td>\n      <td>-1.0351</td>\n    </tr>\n    <tr>\n      <th>9</th>\n      <td>he</td>\n      <td>-1.5828</td>\n      <td>game</td>\n      <td>-1.4735</td>\n      <td>economic</td>\n      <td>-1.5548</td>\n      <td>mr</td>\n      <td>-2.9217</td>\n      <td>government</td>\n      <td>-1.0401</td>\n    </tr>\n  </tbody>\n</table>\n</div>"
     },
     "metadata": {},
     "execution_count": 19
    }
   ],
   "source": [
    "n = 10\n",
    "df_list = []\n",
    "for _class in sgd.classes_:\n",
    "    df_list.append(top_n_features_by_coef(n, _class))\n",
    "pd.concat(df_list, axis=1)"
   ]
  },
  {
   "source": [
    "From above we can see the word tokens with highest positive coefficients for \"business\" are \"its\", \"bank\", \"economic\", and \"shares\", etc. And the word token with highest negative coefficients for \"business\" are \"committee\", \"uk\", \"people\", \"brown\", and \"music\", etc. The word token with highest negative coefficients are more likely to be associated with high coefficients in some other categories, for example, \"committee\" appears in top coefficients for \"politics\" and \"music\" appears in top coefficients for \"entertainment\""
   ],
   "cell_type": "markdown",
   "metadata": {}
  },
  {
   "source": [
    "What what the top positive and negative word tokens by the feature output calculated from tfidf * coefficient"
   ],
   "cell_type": "markdown",
   "metadata": {}
  },
  {
   "cell_type": "code",
   "execution_count": 20,
   "metadata": {},
   "outputs": [],
   "source": [
    "def top_n_features_by_feature_output(n, classname):\n",
    "    \"\"\"\n",
    "        Args:\n",
    "            n: the top number of words by coefficient,\n",
    "            classname: the class label\n",
    "        Returns:\n",
    "            top or bottom n words with coefficients\n",
    "    \"\"\"\n",
    "    class_idx = np.where(sgd.classes_== classname)[0][0]\n",
    "    feature_output = sgd['tfidf_vector_com'].idf_ * sgd['clf'].coef_\n",
    "    idx_coef = sorted(\n",
    "        [(i,v) for (i, v) in enumerate(feature_output[class_idx])], key=lambda e: e[1],reverse=True)\n",
    "    top_n_idx_coef = idx_coef[:n]\n",
    "    bottom_n_idx_coef = idx_coef[-n:] # top negative N words, sort asscending\n",
    "    top_word_coef = list(map(lambda e: (idx_to_word[e[0]], round(e[1], 4)), top_n_idx_coef))\n",
    "    bottom_word_coef = list(map(lambda e: (idx_to_word[e[0]], round(e[1], 4)), bottom_n_idx_coef))\n",
    "    df = pd.DataFrame(top_word_coef, columns=[f\"{classname}_word\", 'coef'])\n",
    "    df_bottom = pd.DataFrame(bottom_word_coef, columns=[f\"{classname}_word\", 'coef'])\n",
    "    return pd.concat([df, df_bottom])"
   ]
  },
  {
   "cell_type": "code",
   "execution_count": 15,
   "metadata": {},
   "outputs": [
    {
     "output_type": "execute_result",
     "data": {
      "text/plain": [
       "  business_word    coef entertainment_word     coef politics_word     coef  \\\n",
       "0     crossrail  9.4400               film  11.2000           ict  13.4400   \n",
       "1           wto  8.8100             ballet  10.8200         straw   9.1900   \n",
       "2          bank  8.7700            hendrix  10.0100          lord   8.1700   \n",
       "3   datamonitor  8.2600              album   9.5600      councils   8.0500   \n",
       "4      economic  8.1100            gallery   9.5100         blair   8.0100   \n",
       "5        shares  8.1000             singer   9.0900       snooker   7.8400   \n",
       "6        boeing  7.9300           festival   8.3600         duchy   7.7000   \n",
       "7          feta  7.8800               show   8.2700         party   7.6300   \n",
       "8         davos  7.4400           freeview   7.9300     committee   7.2900   \n",
       "9       plastic  7.3300               band   7.7300          ukip   7.2700   \n",
       "0         duchy -4.6465              savoy  -3.9825       ukraine  -4.6057   \n",
       "1          spam -4.7505             madden  -4.0158          film  -4.6123   \n",
       "2            g8 -4.8147            players  -4.0562         music  -4.6370   \n",
       "3           ict -4.8678               game  -4.2644      freeview  -4.7972   \n",
       "4         blair -4.9105             bruvik  -4.2665           wto  -4.8932   \n",
       "5           baa -5.0375        interactive  -4.4593         rugby  -4.9588   \n",
       "6        viacom -5.3746              bafta  -4.4676      economic  -5.4020   \n",
       "7      councils -5.4147             online  -4.9464            g7  -5.7187   \n",
       "8         straw -6.8016                emi  -5.7958         davos  -5.8680   \n",
       "9      argonaut -6.8937          gameboyzz  -6.3229         balls  -6.5635   \n",
       "\n",
       "  sport_word    coef    tech_word     coef  \n",
       "0  athletics  8.2200          ink  11.2700  \n",
       "1  liverpool  7.6000     argonaut   9.6500  \n",
       "2      balco  7.4400         spam   8.9800  \n",
       "3     doping  7.2800     computer   8.9000  \n",
       "4      bates  6.8200     software   8.7800  \n",
       "5     tennis  6.6900       online   8.4300  \n",
       "6        cup  6.5700    seafarers   8.4100  \n",
       "7      rugby  6.4500    simonetti   8.3200  \n",
       "8      conte  6.2400         blog   8.1300  \n",
       "9       mido  6.1900        robot   7.9700  \n",
       "0       band -4.1424       shares  -3.6787  \n",
       "1         cm -4.3488     coverage  -3.6799  \n",
       "2       film -4.4989        urban  -3.7522  \n",
       "3   borussia -4.6235  nominations  -3.7691  \n",
       "4      album -4.6306       plasma  -4.0966  \n",
       "5   festival -4.9220   complaints  -4.3806  \n",
       "6     singer -4.9961         corp  -4.9590  \n",
       "7      piero -5.0658     vodafone  -4.9763  \n",
       "8    snooker -5.8390      chernin  -6.9950  \n",
       "9         mr -5.9672          ict  -8.0654  "
      ],
      "text/html": "<div>\n<style scoped>\n    .dataframe tbody tr th:only-of-type {\n        vertical-align: middle;\n    }\n\n    .dataframe tbody tr th {\n        vertical-align: top;\n    }\n\n    .dataframe thead th {\n        text-align: right;\n    }\n</style>\n<table border=\"1\" class=\"dataframe\">\n  <thead>\n    <tr style=\"text-align: right;\">\n      <th></th>\n      <th>business_word</th>\n      <th>coef</th>\n      <th>entertainment_word</th>\n      <th>coef</th>\n      <th>politics_word</th>\n      <th>coef</th>\n      <th>sport_word</th>\n      <th>coef</th>\n      <th>tech_word</th>\n      <th>coef</th>\n    </tr>\n  </thead>\n  <tbody>\n    <tr>\n      <th>0</th>\n      <td>crossrail</td>\n      <td>9.4400</td>\n      <td>film</td>\n      <td>11.2000</td>\n      <td>ict</td>\n      <td>13.4400</td>\n      <td>athletics</td>\n      <td>8.2200</td>\n      <td>ink</td>\n      <td>11.2700</td>\n    </tr>\n    <tr>\n      <th>1</th>\n      <td>wto</td>\n      <td>8.8100</td>\n      <td>ballet</td>\n      <td>10.8200</td>\n      <td>straw</td>\n      <td>9.1900</td>\n      <td>liverpool</td>\n      <td>7.6000</td>\n      <td>argonaut</td>\n      <td>9.6500</td>\n    </tr>\n    <tr>\n      <th>2</th>\n      <td>bank</td>\n      <td>8.7700</td>\n      <td>hendrix</td>\n      <td>10.0100</td>\n      <td>lord</td>\n      <td>8.1700</td>\n      <td>balco</td>\n      <td>7.4400</td>\n      <td>spam</td>\n      <td>8.9800</td>\n    </tr>\n    <tr>\n      <th>3</th>\n      <td>datamonitor</td>\n      <td>8.2600</td>\n      <td>album</td>\n      <td>9.5600</td>\n      <td>councils</td>\n      <td>8.0500</td>\n      <td>doping</td>\n      <td>7.2800</td>\n      <td>computer</td>\n      <td>8.9000</td>\n    </tr>\n    <tr>\n      <th>4</th>\n      <td>economic</td>\n      <td>8.1100</td>\n      <td>gallery</td>\n      <td>9.5100</td>\n      <td>blair</td>\n      <td>8.0100</td>\n      <td>bates</td>\n      <td>6.8200</td>\n      <td>software</td>\n      <td>8.7800</td>\n    </tr>\n    <tr>\n      <th>5</th>\n      <td>shares</td>\n      <td>8.1000</td>\n      <td>singer</td>\n      <td>9.0900</td>\n      <td>snooker</td>\n      <td>7.8400</td>\n      <td>tennis</td>\n      <td>6.6900</td>\n      <td>online</td>\n      <td>8.4300</td>\n    </tr>\n    <tr>\n      <th>6</th>\n      <td>boeing</td>\n      <td>7.9300</td>\n      <td>festival</td>\n      <td>8.3600</td>\n      <td>duchy</td>\n      <td>7.7000</td>\n      <td>cup</td>\n      <td>6.5700</td>\n      <td>seafarers</td>\n      <td>8.4100</td>\n    </tr>\n    <tr>\n      <th>7</th>\n      <td>feta</td>\n      <td>7.8800</td>\n      <td>show</td>\n      <td>8.2700</td>\n      <td>party</td>\n      <td>7.6300</td>\n      <td>rugby</td>\n      <td>6.4500</td>\n      <td>simonetti</td>\n      <td>8.3200</td>\n    </tr>\n    <tr>\n      <th>8</th>\n      <td>davos</td>\n      <td>7.4400</td>\n      <td>freeview</td>\n      <td>7.9300</td>\n      <td>committee</td>\n      <td>7.2900</td>\n      <td>conte</td>\n      <td>6.2400</td>\n      <td>blog</td>\n      <td>8.1300</td>\n    </tr>\n    <tr>\n      <th>9</th>\n      <td>plastic</td>\n      <td>7.3300</td>\n      <td>band</td>\n      <td>7.7300</td>\n      <td>ukip</td>\n      <td>7.2700</td>\n      <td>mido</td>\n      <td>6.1900</td>\n      <td>robot</td>\n      <td>7.9700</td>\n    </tr>\n    <tr>\n      <th>0</th>\n      <td>duchy</td>\n      <td>-4.6465</td>\n      <td>savoy</td>\n      <td>-3.9825</td>\n      <td>ukraine</td>\n      <td>-4.6057</td>\n      <td>band</td>\n      <td>-4.1424</td>\n      <td>shares</td>\n      <td>-3.6787</td>\n    </tr>\n    <tr>\n      <th>1</th>\n      <td>spam</td>\n      <td>-4.7505</td>\n      <td>madden</td>\n      <td>-4.0158</td>\n      <td>film</td>\n      <td>-4.6123</td>\n      <td>cm</td>\n      <td>-4.3488</td>\n      <td>coverage</td>\n      <td>-3.6799</td>\n    </tr>\n    <tr>\n      <th>2</th>\n      <td>g8</td>\n      <td>-4.8147</td>\n      <td>players</td>\n      <td>-4.0562</td>\n      <td>music</td>\n      <td>-4.6370</td>\n      <td>film</td>\n      <td>-4.4989</td>\n      <td>urban</td>\n      <td>-3.7522</td>\n    </tr>\n    <tr>\n      <th>3</th>\n      <td>ict</td>\n      <td>-4.8678</td>\n      <td>game</td>\n      <td>-4.2644</td>\n      <td>freeview</td>\n      <td>-4.7972</td>\n      <td>borussia</td>\n      <td>-4.6235</td>\n      <td>nominations</td>\n      <td>-3.7691</td>\n    </tr>\n    <tr>\n      <th>4</th>\n      <td>blair</td>\n      <td>-4.9105</td>\n      <td>bruvik</td>\n      <td>-4.2665</td>\n      <td>wto</td>\n      <td>-4.8932</td>\n      <td>album</td>\n      <td>-4.6306</td>\n      <td>plasma</td>\n      <td>-4.0966</td>\n    </tr>\n    <tr>\n      <th>5</th>\n      <td>baa</td>\n      <td>-5.0375</td>\n      <td>interactive</td>\n      <td>-4.4593</td>\n      <td>rugby</td>\n      <td>-4.9588</td>\n      <td>festival</td>\n      <td>-4.9220</td>\n      <td>complaints</td>\n      <td>-4.3806</td>\n    </tr>\n    <tr>\n      <th>6</th>\n      <td>viacom</td>\n      <td>-5.3746</td>\n      <td>bafta</td>\n      <td>-4.4676</td>\n      <td>economic</td>\n      <td>-5.4020</td>\n      <td>singer</td>\n      <td>-4.9961</td>\n      <td>corp</td>\n      <td>-4.9590</td>\n    </tr>\n    <tr>\n      <th>7</th>\n      <td>councils</td>\n      <td>-5.4147</td>\n      <td>online</td>\n      <td>-4.9464</td>\n      <td>g7</td>\n      <td>-5.7187</td>\n      <td>piero</td>\n      <td>-5.0658</td>\n      <td>vodafone</td>\n      <td>-4.9763</td>\n    </tr>\n    <tr>\n      <th>8</th>\n      <td>straw</td>\n      <td>-6.8016</td>\n      <td>emi</td>\n      <td>-5.7958</td>\n      <td>davos</td>\n      <td>-5.8680</td>\n      <td>snooker</td>\n      <td>-5.8390</td>\n      <td>chernin</td>\n      <td>-6.9950</td>\n    </tr>\n    <tr>\n      <th>9</th>\n      <td>argonaut</td>\n      <td>-6.8937</td>\n      <td>gameboyzz</td>\n      <td>-6.3229</td>\n      <td>balls</td>\n      <td>-6.5635</td>\n      <td>mr</td>\n      <td>-5.9672</td>\n      <td>ict</td>\n      <td>-8.0654</td>\n    </tr>\n  </tbody>\n</table>\n</div>"
     },
     "metadata": {},
     "execution_count": 15
    }
   ],
   "source": [
    "n = 10\n",
    "df_list = []\n",
    "for _class in sgd.classes_:\n",
    "    df_list.append(top_n_features_by_feature_output(n, _class))\n",
    "pd.concat(df_list, axis=1)"
   ]
  },
  {
   "source": [],
   "cell_type": "markdown",
   "metadata": {}
  }
 ]
}